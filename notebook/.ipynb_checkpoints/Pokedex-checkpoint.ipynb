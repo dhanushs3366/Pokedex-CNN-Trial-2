{
 "cells": [
  {
   "cell_type": "code",
   "execution_count": 6,
   "id": "2e8f0af9-8d73-471c-b5bd-3c0bbfb7b2eb",
   "metadata": {},
   "outputs": [],
   "source": [
    "import os\n",
    "import tensorflow as tf\n",
    "import numpy as np\n",
    "import pandas as pd\n",
    "from matplotlib import pyplot as plt\n",
    "from PIL import Image"
   ]
  },
  {
   "cell_type": "code",
   "execution_count": 2,
   "id": "26135aab-f425-4838-ac9a-3ba7e2570da9",
   "metadata": {},
   "outputs": [],
   "source": [
    "dataset_path=\"../datasets/dataset-raw-v1\"\n"
   ]
  },
  {
   "cell_type": "code",
   "execution_count": 3,
   "id": "772f9bfa-446e-4925-9550-5fbfb2016d9b",
   "metadata": {},
   "outputs": [],
   "source": [
    "pokemon_names=os.listdir(dataset_path)"
   ]
  },
  {
   "cell_type": "code",
   "execution_count": 37,
   "id": "a425444c-5fea-48ac-981d-7d2c9c05a18e",
   "metadata": {},
   "outputs": [],
   "source": [
    "class PlotPokemon:\n",
    "    @staticmethod\n",
    "    def plot_a_pokemon(pokemon:str,input_shape=(64,64)):\n",
    "        try:\n",
    "            pokemon_image=Image.open(pokemon).resize(input_shape).convert(\"RGB\")\n",
    "            pokemon_tensor=tf.convert_to_tensor(pokemon_image)\n",
    "            plt.imshow(pokemon_tensor)\n",
    "            plt.axis('off')  # Turn off axis\n",
    "            plt.show()\n",
    "        except Exception as err:\n",
    "            print(\"Error: \",err)\n",
    "    @staticmethod\n",
    "    def plot_a_tensor(pokemon_tensor:tf.Tensor):\n",
    "        try:\n",
    "            plt.imshow(pokemon_tensor)\n",
    "            plt.axis('off')\n",
    "            plt.show()\n",
    "        except Exception as err:\n",
    "            print(\"Error:\",err)\n",
    "    @staticmethod\n",
    "    def plot_pokemons(pokemons:tf.Tensor,begin:int,end:int):\n",
    "        n_pokemons=pokemons.shape[0]\n",
    "        total_pokemons=end-begin\n",
    "        cols=8\n",
    "        rows=tf.math.ceil(total_pokemons/cols)\n",
    "        \n",
    "        if begin<0 or end>n_pokemons:\n",
    "            return None\n",
    "        \n",
    "        \n",
    "        fig,axis=plt.subplots(rows,cols,figsize=(10,10))\n",
    "        index=begin\n",
    "        for row in rows:\n",
    "            for col in cols:\n",
    "                axis[i, j].imshow(pokemons[begin,:,:,:])\n",
    "                axis[i,j].axis('off')\n",
    "                index+=1\n",
    "                \n",
    "            "
   ]
  },
  {
   "cell_type": "code",
   "execution_count": 38,
   "id": "183d63fc-d4f8-4d2b-8734-55613913fb45",
   "metadata": {},
   "outputs": [
    {
     "name": "stdout",
     "output_type": "stream",
     "text": [
      "tf.Tensor(\n",
      "[[[ 64 153 221]\n",
      "  [ 60 152 219]\n",
      "  [ 59 151 218]\n",
      "  ...\n",
      "  [140 205 235]\n",
      "  [140 205 235]\n",
      "  [140 205 235]]\n",
      "\n",
      " [[ 63 152 220]\n",
      "  [ 60 152 219]\n",
      "  [ 59 150 220]\n",
      "  ...\n",
      "  [139 204 234]\n",
      "  [139 204 234]\n",
      "  [140 205 235]]\n",
      "\n",
      " [[ 62 151 219]\n",
      "  [ 59 150 220]\n",
      "  [ 58 149 219]\n",
      "  ...\n",
      "  [138 203 235]\n",
      "  [139 204 234]\n",
      "  [139 204 234]]\n",
      "\n",
      " ...\n",
      "\n",
      " [[201 187 150]\n",
      "  [200 186 149]\n",
      "  [199 185 148]\n",
      "  ...\n",
      "  [167 142 120]\n",
      "  [168 143 121]\n",
      "  [170 145 123]]\n",
      "\n",
      " [[202 188 151]\n",
      "  [201 187 150]\n",
      "  [200 186 149]\n",
      "  ...\n",
      "  [167 142 120]\n",
      "  [168 143 121]\n",
      "  [170 145 123]]\n",
      "\n",
      " [[203 189 152]\n",
      "  [202 188 151]\n",
      "  [201 187 150]\n",
      "  ...\n",
      "  [167 142 120]\n",
      "  [168 143 121]\n",
      "  [170 145 123]]], shape=(723, 723, 3), dtype=uint8)\n"
     ]
    }
   ],
   "source": [
    "pokemon_img=f\"{dataset_path}/Abra/10a9f06ec6524c66b779ea80354f8519.jpg\"\n",
    "pokemon_tensor=tf.convert_to_tensor(Image.open(pokemon_img).convert(\"RGB\"))\n",
    "print(pokemon_tensor)\n",
    "plotter=PlotPokemon()"
   ]
  },
  {
   "cell_type": "code",
   "execution_count": null,
   "id": "c9e0d719-4bd3-48de-9865-b600e5dd9a1d",
   "metadata": {},
   "outputs": [],
   "source": []
  }
 ],
 "metadata": {
  "kernelspec": {
   "display_name": "pokedex",
   "language": "python",
   "name": "pokedex"
  },
  "language_info": {
   "codemirror_mode": {
    "name": "ipython",
    "version": 3
   },
   "file_extension": ".py",
   "mimetype": "text/x-python",
   "name": "python",
   "nbconvert_exporter": "python",
   "pygments_lexer": "ipython3",
   "version": "3.10.12"
  }
 },
 "nbformat": 4,
 "nbformat_minor": 5
}
